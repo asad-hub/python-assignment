{
 "cells": [
  {
   "cell_type": "code",
   "execution_count": 5,
   "metadata": {},
   "outputs": [
    {
     "name": "stdout",
     "output_type": "stream",
     "text": [
      "Enter marks of the English subject:   77\n",
      "Enter marks of the Math subject:  56\n",
      "Enter marks of the Urdu subject:  87\n",
      "Enter marks of the Biology subject:  57\n",
      "Enter marks of the chemestry subject: 79\n",
      "Grade: B\n"
     ]
    }
   ],
   "source": [
    "sub1=int(input(\"Enter marks of the English subject:   \"));\n",
    "sub2=int(input(\"Enter marks of the Math subject:  \"));\n",
    "sub3=int(input(\"Enter marks of the Urdu subject:  \"));\n",
    "sub4=int(input(\"Enter marks of the Biology subject:  \"));\n",
    "sub5=int(input(\"Enter marks of the chemestry subject: \"));\n",
    "avg=(sub1+sub2+sub3+sub4+sub4)/5\n",
    "if(avg>=90):\n",
    "  print(\"Grade: A\") \n",
    "elif(avg>=80):\n",
    "  print(\"Grade: B \")\n",
    "elif(avg>=70):\n",
    "  print(\"Grade: C\")\n",
    "elif(avg>=60):\n",
    "  print(\"Grade: B\")\n",
    "else:\n",
    "  print(\"Grade: F\")\n",
    "\n",
    "\n",
    "\n",
    "\n"
   ]
  },
  {
   "cell_type": "code",
   "execution_count": 6,
   "metadata": {},
   "outputs": [
    {
     "name": "stdout",
     "output_type": "stream",
     "text": [
      "87\n",
      "odd\n"
     ]
    }
   ],
   "source": [
    "num=int(input(\"\"));\n",
    "x = num % 2\n",
    "if num > 0:\n",
    "    print(\"odd\")\n",
    "else:\n",
    "    print(\"even\")\n"
   ]
  },
  {
   "cell_type": "code",
   "execution_count": 5,
   "metadata": {},
   "outputs": [
    {
     "name": "stdout",
     "output_type": "stream",
     "text": [
      "5\n",
      "7\n"
     ]
    }
   ],
   "source": [
    "Cities =[3245235,\"california\",\"karachi\", \"islamabad\", \"lahore\", \"multan\", \"peshawar\"]\n",
    "cars=[123123,\"audi\",\"bentley\",\"corolla\",\"land cruiser\"]\n",
    "print(len(cars))\n",
    "print(len(Cities))"
   ]
  },
  {
   "cell_type": "code",
   "execution_count": 6,
   "metadata": {},
   "outputs": [
    {
     "name": "stdout",
     "output_type": "stream",
     "text": [
      "125\n",
      "8\n"
     ]
    }
   ],
   "source": [
    "num =[2,1,0,3,6,5,8,100]\n",
    "print(sum(num))\n",
    "print(len(num))"
   ]
  },
  {
   "cell_type": "code",
   "execution_count": 7,
   "metadata": {},
   "outputs": [
    {
     "name": "stdout",
     "output_type": "stream",
     "text": [
      "largest num 5667\n",
      "loest num 0\n"
     ]
    }
   ],
   "source": [
    "num =[2,1,0,335,3,6,5,8,100,5000,5667]\n",
    "num.sort()\n",
    "print(\"largest num\",max(num))\n",
    "print(\"loest num\" ,min(num))"
   ]
  },
  {
   "cell_type": "code",
   "execution_count": 8,
   "metadata": {},
   "outputs": [
    {
     "name": "stdout",
     "output_type": "stream",
     "text": [
      "1\n",
      "1\n",
      "2\n",
      "4\n",
      "3\n"
     ]
    }
   ],
   "source": [
    "a = [1,1,2,4,3,5,8,13,21,34,55,89]\n",
    "for i in a:\n",
    "    if i <5:\n",
    "        print(i)"
   ]
  },
  {
   "cell_type": "code",
   "execution_count": null,
   "metadata": {},
   "outputs": [],
   "source": []
  }
 ],
 "metadata": {
  "kernelspec": {
   "display_name": "Python 3",
   "language": "python",
   "name": "python3"
  },
  "language_info": {
   "codemirror_mode": {
    "name": "ipython",
    "version": 3
   },
   "file_extension": ".py",
   "mimetype": "text/x-python",
   "name": "python",
   "nbconvert_exporter": "python",
   "pygments_lexer": "ipython3",
   "version": "3.7.4"
  }
 },
 "nbformat": 4,
 "nbformat_minor": 2
}
