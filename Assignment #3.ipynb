{
 "cells": [
  {
   "cell_type": "code",
   "execution_count": 1,
   "metadata": {},
   "outputs": [
    {
     "name": "stdout",
     "output_type": "stream",
     "text": [
      "Enter '+' for addition\n",
      "Enter '-' for subtraction\n",
      "Enter '*' for multipilication\n",
      "Enter '/' for division\n",
      "Enter first value: 12\n",
      "Enter second value: 12\n",
      "Enter operator = +\n",
      "Answer :  24\n",
      "Enter Correct Answer\n"
     ]
    }
   ],
   "source": [
    "#Question 1\n",
    "print(\"Enter '+' for addition\")\n",
    "print(\"Enter '-' for subtraction\")\n",
    "print(\"Enter '*' for multipilication\")\n",
    "print(\"Enter '/' for division\")\n",
    "\n",
    "val1 = input('Enter first value: ')\n",
    "val2 = input('Enter second value: ')\n",
    "operator = input('Enter operator = ')\n",
    "'val1 == int(val1)'\n",
    "'val2 == int(val2)'\n",
    "   \n",
    "if operator == '+' :\n",
    "    val = int(val1) + int(val2)\n",
    "    print('Answer : ',val)\n",
    "if operator == '-' :\n",
    "    val = int(val1) - int(val2)\n",
    "    print('Answer : ',val)\n",
    "if operator == '*' :\n",
    "    val = int(val1) * int(val2)\n",
    "    print('Answer : ',val)\n",
    "if operator == '/' :\n",
    "    val = int(val1) / int(val2)\n",
    "    print('Answer : ',val)\n",
    "else:\n",
    "    print(\"Enter Correct Answer\")\n",
    "\n",
    "   \n",
    "    "
   ]
  },
  {
   "cell_type": "code",
   "execution_count": 7,
   "metadata": {},
   "outputs": [
    {
     "name": "stdout",
     "output_type": "stream",
     "text": [
      "numeric value is 52\n"
     ]
    }
   ],
   "source": [
    "#Queation 2\n",
    "list =[\"Asad\",\"tassawur\",\"subhan\",52,\"ahsan\"]\n",
    "for i in list:\n",
    "    if(i==52):\n",
    "        print(\"numeric value is\",i)\n"
   ]
  },
  {
   "cell_type": "code",
   "execution_count": 8,
   "metadata": {},
   "outputs": [
    {
     "name": "stdout",
     "output_type": "stream",
     "text": [
      "{'first NAme': 'Tasawwur', 'LAst NAme': 'hussain', 'Address': 'korangi 2 street 5'}\n"
     ]
    }
   ],
   "source": [
    "#queation 3\n",
    "customer_12345 = {\"first name\": \"Asad\",\n",
    "       \"last name\":\"Malik\",\n",
    "      \"Address\": \"LAndhi 1 street no 19.\"}\n",
    "customer_23145 = {\"first NAme\": \"Tasawwur\",\n",
    "                 \"LAst NAme\": \"hussain\",\n",
    "                 \"Address\": \"korangi 2 street 5\"}\n",
    "print(customer_23145)\n"
   ]
  },
  {
   "cell_type": "code",
   "execution_count": 1,
   "metadata": {},
   "outputs": [
    {
     "name": "stdout",
     "output_type": "stream",
     "text": [
      "sum of all numaricitems in a dictionary is 15\n",
      "sum of all numaricitems in a dictionary is 35\n",
      "sum of all numaricitems in a dictionary is 38\n"
     ]
    }
   ],
   "source": [
    "#Question 4\n",
    "dito = {\n",
    "    'A': 15,\n",
    "    'B': 20,\n",
    "    'C' : 'ASAD',\n",
    "    'D' : 3,\n",
    "        }\n",
    "sum =0\n",
    "for i in dito.values():\n",
    "    if type(i) ==int:\n",
    "        sum +=i\n",
    "        print(\"sum of all numaricitems in a dictionary is\",sum)\n",
    "    "
   ]
  },
  {
   "cell_type": "code",
   "execution_count": 2,
   "metadata": {},
   "outputs": [
    {
     "name": "stdout",
     "output_type": "stream",
     "text": [
      "29 is duplicate\n",
      "star is duplicate\n",
      "6 is duplicate\n"
     ]
    }
   ],
   "source": [
    "#Question 5\n",
    "list1 =[29,18,'karachi',6,'star',29,'star',6]\n",
    "dup =[]\n",
    "for i in list1:\n",
    "    for x in dup:\n",
    "        if (i == x):\n",
    "            print(i,'is duplicate')\n",
    "    dup.append(i)"
   ]
  },
  {
   "cell_type": "code",
   "execution_count": 12,
   "metadata": {},
   "outputs": [
    {
     "name": "stdout",
     "output_type": "stream",
     "text": [
      "Enter key Name cheak if exist or notD\n",
      "Give key Exist\n"
     ]
    }
   ],
   "source": [
    "#Question 6\n",
    "dito = {\n",
    "    'A': 15,\n",
    "    'B': 20,\n",
    "    'C' : 'ASAD',\n",
    "    'D' : 3,\n",
    "        }\n",
    "cheak_key =input(\"Enter key Name cheak if exist or not\")\n",
    "flag = False\n",
    "for i in dito.keys():\n",
    "    if i == cheak_key:\n",
    "        flag = True\n",
    "        break\n",
    "if flag:\n",
    "    print(\"Give key Exist\")\n",
    "else:\n",
    "    print(\"Give key does not Exist\")\n",
    "    "
   ]
  },
  {
   "cell_type": "code",
   "execution_count": null,
   "metadata": {},
   "outputs": [],
   "source": []
  },
  {
   "cell_type": "code",
   "execution_count": null,
   "metadata": {},
   "outputs": [],
   "source": []
  },
  {
   "cell_type": "code",
   "execution_count": null,
   "metadata": {},
   "outputs": [],
   "source": []
  },
  {
   "cell_type": "code",
   "execution_count": null,
   "metadata": {},
   "outputs": [],
   "source": []
  },
  {
   "cell_type": "code",
   "execution_count": null,
   "metadata": {},
   "outputs": [],
   "source": []
  },
  {
   "cell_type": "code",
   "execution_count": null,
   "metadata": {},
   "outputs": [],
   "source": []
  },
  {
   "cell_type": "code",
   "execution_count": null,
   "metadata": {},
   "outputs": [],
   "source": []
  },
  {
   "cell_type": "code",
   "execution_count": null,
   "metadata": {},
   "outputs": [],
   "source": []
  },
  {
   "cell_type": "code",
   "execution_count": null,
   "metadata": {},
   "outputs": [],
   "source": []
  },
  {
   "cell_type": "code",
   "execution_count": null,
   "metadata": {},
   "outputs": [],
   "source": [
    "#Question 3\n",
    "customer_12345 = {\"first name\": \"Asad\",\n",
    "       \"last name\":\"Malik\",\n",
    "      \"Address\": \"LAndhi 1 street no 19.\"}\n",
    "customer_23145 = {\"first NAme\": \"Tasawwur\",\n",
    "                 \"LAst NAme\": \"hussain\",\n",
    "                 \"Address\": \"korangi 2 street 5\"}\n",
    "print(customer_23145)\n"
   ]
  },
  {
   "cell_type": "code",
   "execution_count": null,
   "metadata": {},
   "outputs": [],
   "source": []
  },
  {
   "cell_type": "code",
   "execution_count": null,
   "metadata": {},
   "outputs": [],
   "source": []
  },
  {
   "cell_type": "code",
   "execution_count": null,
   "metadata": {},
   "outputs": [],
   "source": []
  },
  {
   "cell_type": "code",
   "execution_count": null,
   "metadata": {},
   "outputs": [],
   "source": []
  },
  {
   "cell_type": "code",
   "execution_count": null,
   "metadata": {},
   "outputs": [],
   "source": []
  },
  {
   "cell_type": "code",
   "execution_count": null,
   "metadata": {},
   "outputs": [],
   "source": []
  },
  {
   "cell_type": "code",
   "execution_count": null,
   "metadata": {},
   "outputs": [],
   "source": []
  },
  {
   "cell_type": "code",
   "execution_count": null,
   "metadata": {},
   "outputs": [],
   "source": []
  },
  {
   "cell_type": "code",
   "execution_count": null,
   "metadata": {},
   "outputs": [],
   "source": []
  },
  {
   "cell_type": "code",
   "execution_count": null,
   "metadata": {},
   "outputs": [],
   "source": []
  },
  {
   "cell_type": "code",
   "execution_count": null,
   "metadata": {},
   "outputs": [],
   "source": []
  }
 ],
 "metadata": {
  "kernelspec": {
   "display_name": "Python 3",
   "language": "python",
   "name": "python3"
  },
  "language_info": {
   "codemirror_mode": {
    "name": "ipython",
    "version": 3
   },
   "file_extension": ".py",
   "mimetype": "text/x-python",
   "name": "python",
   "nbconvert_exporter": "python",
   "pygments_lexer": "ipython3",
   "version": "3.7.4"
  }
 },
 "nbformat": 4,
 "nbformat_minor": 2
}
