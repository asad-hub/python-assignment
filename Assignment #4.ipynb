{
 "cells": [
  {
   "cell_type": "code",
   "execution_count": 3,
   "metadata": {},
   "outputs": [
    {
     "name": "stdout",
     "output_type": "stream",
     "text": [
      "ASAD\n",
      "ASHRAF\n",
      "24\n",
      "Karachi\n",
      "Matric\n",
      "After update Qualification on  BSSE\n",
      "{'First_name': 'ASAD', 'Last_name': 'ASHRAF', 'Age': '24', 'City': 'Karachi'}\n"
     ]
    }
   ],
   "source": [
    "#Question 1\n",
    "obj = {\n",
    "    \"First_name\" : \"ASAD\",\n",
    "    \"Last_name\" : \"ASHRAF\",\n",
    "    \"Age\":\"24\",\n",
    "    \"City\" : \"Karachi\"\n",
    "}\n",
    "\n",
    "for i in obj.values():\n",
    "    print(i)\n",
    "    \n",
    "obj.update({\"Qualification\": \"Matric\"})\n",
    "\n",
    "print(obj[\"Qualification\"])\n",
    "\n",
    "obj[\"Qualification\"] = \"BSSE\"\n",
    "print(\"After update Qualification on \",obj[\"Qualification\"])\n",
    "\n",
    "del obj[\"Qualification\"]\n",
    "\n",
    "print(obj)"
   ]
  },
  {
   "cell_type": "code",
   "execution_count": 1,
   "metadata": {},
   "outputs": [
    {
     "name": "stdout",
     "output_type": "stream",
     "text": [
      "Name of city is  karachi\n",
      "Country Name is :  Pakistan\n",
      "Approximate population is :  14.91 million\n",
      "Fact of the city is :  Karachi is the Capital of the Pakistani province od Sindh it is the most populous city in Pakistan and fifth-most-populous city proper in the world\n",
      "===================================================================================================================\n",
      "Name of city is  Dubai\n",
      "Country Name is :  UAE\n",
      "Approximate population is :  3.137 million approx\n",
      "Fact of the city is :  Dubai is a city & emirate in the United Arab Emirates known for luxury shopping, ultramodren architecture and a lively nightlife scene\n",
      "===================================================================================================================\n",
      "Name of city is  paris\n",
      "Country Name is :  France\n",
      "Approximate population is :  2.141 million approx\n",
      "Fact of the city is :  Paris, France's capital, is a major European city and a global center for art, fashion gastronomy and culture\n",
      "===================================================================================================================\n"
     ]
    }
   ],
   "source": [
    "#Question 2\n",
    "city ={\n",
    "    \"karachi\" : {\n",
    "        \"country\": \"Pakistan\",\n",
    "        \"approximate_population\":\"14.91 million\",\n",
    "        \"fact\":\"Karachi is the Capital of the Pakistani province od Sindh it is the most populous city in Pakistan and fifth-most-populous city proper in the world\"\n",
    "    },\n",
    "    \"Dubai\" : {\n",
    "        \"country\": \"UAE\",\n",
    "        \"approximate_population\":\"3.137 million approx\",\n",
    "        \"fact\":\"Dubai is a city & emirate in the United Arab Emirates known for luxury shopping, ultramodren architecture and a lively nightlife scene\"\n",
    "    },\n",
    "    \"paris\" : {\n",
    "        \"country\": \"France\",\n",
    "        \"approximate_population\":\"2.141 million approx\",\n",
    "        \"fact\":\"Paris, France's capital, is a major European city and a global center for art, fashion gastronomy and culture\"\n",
    "    }\n",
    "}\n",
    "    \n",
    "for i in city.keys():\n",
    "    print(\"Name of city is \", i)\n",
    "    print(\"Country Name is : \" , city[i][\"country\"])\n",
    "    print(\"Approximate population is : \" , city[i][\"approximate_population\"])\n",
    "    print(\"Fact of the city is : \" , city[i][\"fact\"])\n",
    "    print(\"===================================================================================================================\")"
   ]
  },
  {
   "cell_type": "code",
   "execution_count": 2,
   "metadata": {},
   "outputs": [
    {
     "name": "stdout",
     "output_type": "stream",
     "text": [
      "Welcome To Movie Theater\n",
      "Enter the no. of Person : 3\n",
      "Enter The Age Of Person: 2\n",
      "Your Ticket is Free! Enjoy Your Movie\n",
      "Enter The Age Of Person: 12\n",
      "Your Ticket price will be 10$\n",
      "Enter The Age Of Person: 15\n",
      "Your Ticket price will be 15$\n",
      "Total Amount =  25  $ Enjoy Your Movie\n"
     ]
    }
   ],
   "source": [
    "#Question 3\n",
    "print(\"Welcome To Movie Theater\")\n",
    "persons = int(input(\"Enter the no. of Person : \"))\n",
    "\n",
    "total_price = 0\n",
    "\n",
    "for i in range(1,persons+1):\n",
    "    age = int(input(\"Enter The Age Of Person: \"))\n",
    "    if age <= 3:\n",
    "        print(\"Your Ticket is Free! Enjoy Your Movie\")\n",
    "    elif age <= 12:\n",
    "        print(\"Your Ticket price will be 10$\")\n",
    "        total_price +=10\n",
    "    else:\n",
    "        print(\"Your Ticket price will be 15$\")\n",
    "        total_price +=15\n",
    "\n",
    "print(\"Total Amount = \",total_price,\" $ Enjoy Your Movie\")"
   ]
  },
  {
   "cell_type": "code",
   "execution_count": 5,
   "metadata": {},
   "outputs": [
    {
     "name": "stdout",
     "output_type": "stream",
     "text": [
      "Enter The Bookk Title: jhon wick\n",
      "One of my favorite books is  jhon wick\n"
     ]
    }
   ],
   "source": [
    "#Question 4\n",
    "def favorite_book(book_name):\n",
    "    print(\"One of my favorite books is \",book_name)\n",
    "    \n",
    "title=input(\"Enter The Bookk Title: \")\n",
    "\n",
    "favorite_book(title)"
   ]
  },
  {
   "cell_type": "code",
   "execution_count": 7,
   "metadata": {},
   "outputs": [
    {
     "name": "stdout",
     "output_type": "stream",
     "text": [
      "Guess the number between 1 to 30 : 23\n",
      "Your guess is too high\n",
      "Guess the number between 1 to 30 : 25\n",
      "Your guess is too high\n",
      "Guess the number between 1 to 30 : 27\n",
      "Your guess is too high\n",
      "You Loose\n",
      "Correct Number is  10\n"
     ]
    }
   ],
   "source": [
    "#Question 5\n",
    "import random\n",
    "\n",
    "random_number = random.randrange(1,30)\n",
    "\n",
    "flag = False\n",
    "\n",
    "for i in range(1,4):\n",
    "    guess = int(input(\"Guess the number between 1 to 30 : \"))\n",
    "    if guess == random_number:\n",
    "        flag = True \n",
    "        break\n",
    "    elif guess < random_number:\n",
    "        print(\"Your guess is too low\")\n",
    "    else:\n",
    "        print(\"Your guess is too high\")\n",
    "        \n",
    "if flag:\n",
    "    print(\"Congratulation you Win!!\")\n",
    "else:\n",
    "    print(\"You Loose\")\n",
    "    print(\"Correct Number is \", random_number)"
   ]
  },
  {
   "cell_type": "code",
   "execution_count": null,
   "metadata": {},
   "outputs": [],
   "source": []
  }
 ],
 "metadata": {
  "kernelspec": {
   "display_name": "Python 3",
   "language": "python",
   "name": "python3"
  },
  "language_info": {
   "codemirror_mode": {
    "name": "ipython",
    "version": 3
   },
   "file_extension": ".py",
   "mimetype": "text/x-python",
   "name": "python",
   "nbconvert_exporter": "python",
   "pygments_lexer": "ipython3",
   "version": "3.7.4"
  }
 },
 "nbformat": 4,
 "nbformat_minor": 2
}
