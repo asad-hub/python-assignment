{
 "cells": [
  {
   "cell_type": "code",
   "execution_count": 1,
   "metadata": {},
   "outputs": [
    {
     "name": "stdout",
     "output_type": "stream",
     "text": [
      "Enter a number to calculate the factorial :5\n",
      "120\n"
     ]
    }
   ],
   "source": [
    "#Question 1 \n",
    "\n",
    "\n",
    "\n",
    "def factorial(number):\n",
    "    if number ==0:\n",
    "        return 1\n",
    "    else:\n",
    "        return number *factorial(number-1)\n",
    "    \n",
    "num = int(input(\"Enter a number to calculate the factorial :\"))\n",
    "print(factorial(num))"
   ]
  },
  {
   "cell_type": "code",
   "execution_count": 3,
   "metadata": {},
   "outputs": [
    {
     "name": "stdout",
     "output_type": "stream",
     "text": [
      "Enter factorial number : 1\n",
      "Factorial result:  1\n"
     ]
    }
   ],
   "source": [
    "#Question ; 1 by second method\n",
    "def factorial_cal(fact):\n",
    "    result=1\n",
    "    while fact !=0:\n",
    "        result *=fact\n",
    "        fact = fact-1\n",
    "    \n",
    "    print(\"Factorial result: \",result)\n",
    "\n",
    "facto = int(input(\"Enter factorial number : \"))\n",
    "factorial_cal(facto)"
   ]
  },
  {
   "cell_type": "code",
   "execution_count": 9,
   "metadata": {},
   "outputs": [
    {
     "name": "stdout",
     "output_type": "stream",
     "text": [
      "Enter any string :Asad Ashraf\n",
      "Your Entered string : Asad Ashraf\n",
      "Uppercase letter : 2\n",
      "Lowercase letter : 8\n"
     ]
    }
   ],
   "source": [
    "#Question 2\n",
    "\n",
    "def cal_str(string):\n",
    "    up_count = 0\n",
    "    low_count = 0\n",
    "    \n",
    "    for a in string:\n",
    "        if a.isupper():\n",
    "            up_count +=1\n",
    "        elif a.islower():\n",
    "            low_count +=1\n",
    "        else:\n",
    "            pass\n",
    "    print(\"Your Entered string :\",string)\n",
    "    print(\"Uppercase letter :\", up_count)\n",
    "    print(\"Lowercase letter :\", low_count)\n",
    "        \n",
    "input_string = input(\"Enter any string :\")\n",
    "cal_str(input_string)"
   ]
  },
  {
   "cell_type": "code",
   "execution_count": 10,
   "metadata": {},
   "outputs": [
    {
     "name": "stdout",
     "output_type": "stream",
     "text": [
      "8\n",
      "4\n",
      "8\n",
      "6\n",
      "8\n",
      "10\n",
      "34\n",
      "12\n"
     ]
    }
   ],
   "source": [
    "#Question 3\n",
    "listo = [1,8,4,1,7,8,9,6,8,10,34,23,12,15,23]\n",
    "\n",
    "def even_cal(cal):\n",
    "    a = len(cal)\n",
    "    b=0\n",
    "    while b!=a:\n",
    "        if cal[b] % 2 == 0 :\n",
    "            print(cal[b])\n",
    "        b = b + 1\n",
    "    \n",
    "    \n",
    "even_cal(listo)"
   ]
  },
  {
   "cell_type": "code",
   "execution_count": 17,
   "metadata": {},
   "outputs": [
    {
     "name": "stdout",
     "output_type": "stream",
     "text": [
      "[6, 2, 8, 10]\n"
     ]
    }
   ],
   "source": [
    "#Question 3 by second method\n",
    "\n",
    "def even_num(num):\n",
    "    even =[]\n",
    "    for n in num:\n",
    "        if n % 2 ==0:\n",
    "            even.append(n)\n",
    "    return even\n",
    "\n",
    "list1=[1,6,2,7,8,10]\n",
    "print(even_num(list1))"
   ]
  },
  {
   "cell_type": "code",
   "execution_count": 13,
   "metadata": {},
   "outputs": [
    {
     "name": "stdout",
     "output_type": "stream",
     "text": [
      "Enter any sentence to check palindrome :madam\n",
      "you Entered Palindrome : madam\n"
     ]
    }
   ],
   "source": [
    "#Question :4\n",
    "\n",
    "getinput =input(\"Enter any sentence to check palindrome :\")\n",
    "\n",
    "def check(get):\n",
    "    palindrome = (get[::-1])\n",
    "    if get == palindrome:\n",
    "        print(\"you Entered Palindrome :\",palindrome)\n",
    "    else:\n",
    "        print(\"Your Input is not palindrome\")\n",
    "check(getinput)"
   ]
  },
  {
   "cell_type": "code",
   "execution_count": 15,
   "metadata": {},
   "outputs": [
    {
     "name": "stdout",
     "output_type": "stream",
     "text": [
      "Enter Any num :2\n",
      "2 is a prime no\n"
     ]
    }
   ],
   "source": [
    "#Question :5\n",
    "getinput = int(input(\"Enter Any num :\"))\n",
    "def primefunc(primeno):\n",
    "    prime=0\n",
    "    i=2\n",
    "    while i<primeno:\n",
    "        if primeno % i ==0:\n",
    "            prime = prime +1\n",
    "        i = i+1\n",
    "    if prime>0:\n",
    "        print(str(primeno) + \" \" + \"is not a prime no\")\n",
    "    else:\n",
    "        print(str(primeno) +\" \"+ \"is a prime no\")\n",
    "        \n",
    "\n",
    "primefunc(getinput)"
   ]
  },
  {
   "cell_type": "code",
   "execution_count": 16,
   "metadata": {},
   "outputs": [
    {
     "name": "stdout",
     "output_type": "stream",
     "text": [
      "You selected Ice crem\n",
      "You selected Choclate\n",
      "You selected Vanila\n"
     ]
    }
   ],
   "source": [
    "#Question :6\n",
    "\n",
    "def shopping_list(*items):\n",
    "    for item in items:\n",
    "        print(\"You selected\",item)\n",
    "\n",
    "shopping_list('Ice crem','Choclate','Vanila')"
   ]
  },
  {
   "cell_type": "code",
   "execution_count": null,
   "metadata": {},
   "outputs": [],
   "source": []
  }
 ],
 "metadata": {
  "kernelspec": {
   "display_name": "Python 3",
   "language": "python",
   "name": "python3"
  },
  "language_info": {
   "codemirror_mode": {
    "name": "ipython",
    "version": 3
   },
   "file_extension": ".py",
   "mimetype": "text/x-python",
   "name": "python",
   "nbconvert_exporter": "python",
   "pygments_lexer": "ipython3",
   "version": "3.7.4"
  }
 },
 "nbformat": 4,
 "nbformat_minor": 2
}
